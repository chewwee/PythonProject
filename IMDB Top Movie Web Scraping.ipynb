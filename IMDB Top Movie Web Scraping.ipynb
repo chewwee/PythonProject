{
 "cells": [
  {
   "cell_type": "code",
   "execution_count": 1,
   "metadata": {},
   "outputs": [],
   "source": [
    "from bs4 import BeautifulSoup\n",
    "import requests, openpyxl"
   ]
  },
  {
   "cell_type": "code",
   "execution_count": 2,
   "metadata": {},
   "outputs": [
    {
     "name": "stdout",
     "output_type": "stream",
     "text": [
      "['Sheet']\n",
      "['Top Rated IMDB Movies']\n"
     ]
    }
   ],
   "source": [
    "# create an excel workbook\n",
    "excel = openpyxl.Workbook()\n",
    "print(excel.sheetnames)\n",
    "sheet = excel.active\n",
    "sheet.title = \"Top Rated IMDB Movies\"\n",
    "print(excel.sheetnames)\n",
    "sheet.append([\"Rank\",\"Movie Name\",\"Released Year\",\"IMDB Rating\"])"
   ]
  },
  {
   "cell_type": "code",
   "execution_count": 3,
   "metadata": {},
   "outputs": [],
   "source": [
    "url = \"https://www.imdb.com/chart/top/\"\n",
    "\n",
    "try:\n",
    "    source = requests.get(url)\n",
    "\n",
    "# just in case the website not valid or reachable\n",
    "    source.raise_for_status()\n",
    "    \n",
    "    soup = BeautifulSoup(source.text, \"html.parser\")\n",
    "    \n",
    "    # get the movie name without tag\n",
    "    movies = soup.find('tbody',class_ = \"lister-list\").find_all(\"tr\")\n",
    "    \n",
    "    for movie in movies:\n",
    "        \n",
    "        # fetching only the movie name under tag \"a\"\n",
    "        name = movie.find(\"td\", class_= \"titleColumn\").a.text\n",
    "        releasedyear = movie.find(\"td\",class_ = \"titleColumn\").span.text.strip(\"()\")\n",
    "        rank = movie.find(\"td\",class_ = \"titleColumn\").text.split(\".\")[0]\n",
    "        rating = movie.find(\"td\", class_=\"ratingColumn imdbRating\").strong.text\n",
    "    \n",
    "        #print(rank, name, releasedyear, rating)\n",
    "        sheet.append([rank, name, releasedyear, rating])\n",
    "        \n",
    "except Exception as e:\n",
    "    print(e)\n",
    "\n",
    "excel.save(\"Top 250 IMDB Movies.xlsx\")"
   ]
  }
 ],
 "metadata": {
  "kernelspec": {
   "display_name": "Python 3",
   "language": "python",
   "name": "python3"
  },
  "language_info": {
   "codemirror_mode": {
    "name": "ipython",
    "version": 3
   },
   "file_extension": ".py",
   "mimetype": "text/x-python",
   "name": "python",
   "nbconvert_exporter": "python",
   "pygments_lexer": "ipython3",
   "version": "3.8.5"
  }
 },
 "nbformat": 4,
 "nbformat_minor": 4
}
